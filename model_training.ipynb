{
 "cells": [
  {
   "attachments": {},
   "cell_type": "markdown",
   "metadata": {},
   "source": [
    "Build your Logistic Regression model"
   ]
  },
  {
   "attachments": {},
   "cell_type": "markdown",
   "metadata": {},
   "source": [
    "Import the libraries\n",
    "\n",
    "hints: \n",
    "\n",
    "- numpy\n",
    "\n",
    "- pandas\n",
    "\n",
    "- LogisticRegression from sklearn.linear_model \n",
    "\n",
    "- StandardScaler from sklearn.preprocessing"
   ]
  },
  {
   "cell_type": "code",
   "execution_count": null,
   "metadata": {},
   "outputs": [],
   "source": []
  },
  {
   "attachments": {},
   "cell_type": "markdown",
   "metadata": {},
   "source": [
    "Importing the dataset\n",
    "\n",
    "hints:\n",
    "use pandas **read_csv** method to read the csv files.\n",
    "\n",
    ">import *train.csv* and named it as *train_dataset*\n",
    ">\n",
    ">import *test.csv* and names it as *test_dataset*\n",
    ">\n",
    ">import *gender_submission.csv* and name it as *test_labels*"
   ]
  },
  {
   "cell_type": "code",
   "execution_count": null,
   "metadata": {},
   "outputs": [],
   "source": []
  },
  {
   "attachments": {},
   "cell_type": "markdown",
   "metadata": {},
   "source": [
    "Check the features for the dataset\n",
    "\n",
    "hints:\n",
    "\n",
    "> use .info() method\n",
    ">\n",
    "> train_dataset.info()"
   ]
  },
  {
   "cell_type": "code",
   "execution_count": null,
   "metadata": {},
   "outputs": [],
   "source": [
    "\n"
   ]
  },
  {
   "attachments": {},
   "cell_type": "markdown",
   "metadata": {},
   "source": [
    "Check the data distribution for both train and test dataset.\n",
    "\n",
    "Hints:\n",
    "\n",
    "> use .describe() method"
   ]
  },
  {
   "cell_type": "code",
   "execution_count": null,
   "metadata": {},
   "outputs": [],
   "source": []
  },
  {
   "attachments": {},
   "cell_type": "markdown",
   "metadata": {},
   "source": [
    "Check the null values for both dataset\n",
    "\n",
    "Hints:\n",
    "\n",
    "> use .isnull().sum() method"
   ]
  },
  {
   "cell_type": "code",
   "execution_count": null,
   "metadata": {},
   "outputs": [],
   "source": []
  },
  {
   "attachments": {},
   "cell_type": "markdown",
   "metadata": {},
   "source": [
    "Feature Engineering"
   ]
  },
  {
   "attachments": {},
   "cell_type": "markdown",
   "metadata": {},
   "source": [
    "Drop out PassengerID, Name, Ticket, Fare and Cabin column for both datasets\n",
    "\n",
    "hints:\n",
    "\n",
    "> use .drop method and remember to put axis = 1 since you are dropping the column"
   ]
  },
  {
   "cell_type": "code",
   "execution_count": null,
   "metadata": {},
   "outputs": [],
   "source": [
    "#axis = 1 means that we are dropping the column\n"
   ]
  },
  {
   "attachments": {},
   "cell_type": "markdown",
   "metadata": {},
   "source": [
    "Drop Null Embarked column record for training dataset\n",
    "\n",
    "Hints:\n",
    "\n",
    ">use .dropna method and axis = 0"
   ]
  },
  {
   "cell_type": "code",
   "execution_count": null,
   "metadata": {},
   "outputs": [],
   "source": [
    "# drop the rows that embarked column have null values for train_dataset\n"
   ]
  },
  {
   "attachments": {},
   "cell_type": "markdown",
   "metadata": {},
   "source": [
    "Now fill up the age values with mean values for both datasets\n",
    "\n",
    "hints:\n",
    "\n",
    "> use .fillna method and value  = round(np.mean()), inplace = True"
   ]
  },
  {
   "cell_type": "code",
   "execution_count": null,
   "metadata": {},
   "outputs": [],
   "source": [
    "#fill up the age values with mean values for both datasets\n"
   ]
  },
  {
   "attachments": {},
   "cell_type": "markdown",
   "metadata": {},
   "source": [
    "Check the sex column and update it into numerical column (Male: 0, Female: 1)\n",
    "\n",
    "hints:\n",
    "\n",
    "> use map method"
   ]
  },
  {
   "cell_type": "code",
   "execution_count": null,
   "metadata": {},
   "outputs": [],
   "source": []
  },
  {
   "attachments": {},
   "cell_type": "markdown",
   "metadata": {},
   "source": [
    "Check the embarked column and update it into numerical column (C:0, Q:1, S:1)\n",
    "\n",
    "hints:\n",
    " > use .map method"
   ]
  },
  {
   "cell_type": "code",
   "execution_count": null,
   "metadata": {},
   "outputs": [],
   "source": []
  },
  {
   "attachments": {},
   "cell_type": "markdown",
   "metadata": {},
   "source": [
    "Get the  Survived column as target value"
   ]
  },
  {
   "cell_type": "code",
   "execution_count": null,
   "metadata": {},
   "outputs": [],
   "source": [
    "#get the Survived column as target value for prediction\n"
   ]
  },
  {
   "attachments": {},
   "cell_type": "markdown",
   "metadata": {},
   "source": [
    "Check the current features for test dataset and test labels(target value)\n",
    "\n",
    "\n",
    "Hints:\n",
    "\n",
    "> use .info method"
   ]
  },
  {
   "attachments": {},
   "cell_type": "markdown",
   "metadata": {},
   "source": [
    "Check the current features for train dataset and train labels(target value)\n",
    "\n",
    "\n",
    "Hints:\n",
    "\n",
    "> use .info method"
   ]
  },
  {
   "cell_type": "code",
   "execution_count": null,
   "metadata": {},
   "outputs": [],
   "source": []
  },
  {
   "attachments": {},
   "cell_type": "markdown",
   "metadata": {},
   "source": [
    "Convert the dataframes to numpy array for test dataset, test labels, train dataset, train labels\n",
    "\n",
    "Hints:\n",
    "\n",
    "> use .values method"
   ]
  },
  {
   "cell_type": "code",
   "execution_count": null,
   "metadata": {},
   "outputs": [],
   "source": [
    "# convert df to numpy array\n"
   ]
  },
  {
   "attachments": {},
   "cell_type": "markdown",
   "metadata": {},
   "source": [
    "Data normalization"
   ]
  },
  {
   "attachments": {},
   "cell_type": "markdown",
   "metadata": {},
   "source": [
    "Pickle the StandardScaler so that we can use the same data normalization model for the web app prediction for the data normalization. \n",
    "\n",
    "Hints:\n",
    "\n",
    "> import pickle library\n",
    ">\n",
    "> call StandardScaler and save as scaler\n",
    ">\n",
    "> fit the StandardScaler with the train dataset\n",
    ">\n",
    "> save the trained StandardScaler"
   ]
  },
  {
   "cell_type": "code",
   "execution_count": null,
   "metadata": {},
   "outputs": [],
   "source": [
    "\n",
    "# save the scaler object to a file\n"
   ]
  },
  {
   "attachments": {},
   "cell_type": "markdown",
   "metadata": {},
   "source": [
    "Transform the train and test dataset using scaler.transform method"
   ]
  },
  {
   "cell_type": "code",
   "execution_count": null,
   "metadata": {},
   "outputs": [],
   "source": []
  },
  {
   "attachments": {},
   "cell_type": "markdown",
   "metadata": {},
   "source": [
    "Train the model using LogisticRegression\n",
    "\n",
    "Hints:\n",
    "\n",
    "> call the LogisticRegression model\n",
    ">\n",
    "> use .fit method to train the model with train dataset and train labels"
   ]
  },
  {
   "cell_type": "code",
   "execution_count": null,
   "metadata": {},
   "outputs": [],
   "source": []
  },
  {
   "attachments": {},
   "cell_type": "markdown",
   "metadata": {},
   "source": [
    "Check the score on the test data\n",
    "\n",
    "Hints:\n",
    "\n",
    "> use .score method with test dataset and test labels"
   ]
  },
  {
   "cell_type": "code",
   "execution_count": null,
   "metadata": {},
   "outputs": [],
   "source": []
  },
  {
   "attachments": {},
   "cell_type": "markdown",
   "metadata": {},
   "source": [
    "Check the coefficients for each features\n",
    "\n",
    "Hints:\n",
    "\n",
    "> list(zip([features],model.coef_[0]))\n"
   ]
  },
  {
   "cell_type": "code",
   "execution_count": null,
   "metadata": {},
   "outputs": [],
   "source": [
    "# Analyze the coefficients\n",
    "# Coefficients are the weights of the features\n",
    "# The higher the coefficient, the higher the importance of the feature\n",
    "# features are Pclass, Sex, Age, SibSp, Parch, Embarked\n"
   ]
  },
  {
   "attachments": {},
   "cell_type": "markdown",
   "metadata": {},
   "source": [
    "Pickle the model\n",
    "\n",
    "Hints:\n",
    "\n",
    "> use .dump method"
   ]
  },
  {
   "cell_type": "code",
   "execution_count": null,
   "metadata": {},
   "outputs": [],
   "source": [
    "# save the model using pickle\n"
   ]
  },
  {
   "attachments": {},
   "cell_type": "markdown",
   "metadata": {},
   "source": [
    "Test out the pickled_model\n",
    "\n",
    "Hints:\n",
    "\n",
    "> use .load method"
   ]
  },
  {
   "cell_type": "code",
   "execution_count": null,
   "metadata": {},
   "outputs": [],
   "source": []
  }
 ],
 "metadata": {
  "kernelspec": {
   "display_name": "venv",
   "language": "python",
   "name": "python3"
  },
  "language_info": {
   "codemirror_mode": {
    "name": "ipython",
    "version": 3
   },
   "file_extension": ".py",
   "mimetype": "text/x-python",
   "name": "python",
   "nbconvert_exporter": "python",
   "pygments_lexer": "ipython3",
   "version": "3.10.0"
  },
  "orig_nbformat": 4,
  "vscode": {
   "interpreter": {
    "hash": "58992f068a9c9141440903b01a742b070a63573554e8ca661fe90896d8c95a95"
   }
  }
 },
 "nbformat": 4,
 "nbformat_minor": 2
}
